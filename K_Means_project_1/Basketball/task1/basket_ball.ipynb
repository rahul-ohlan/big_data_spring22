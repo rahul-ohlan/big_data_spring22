{
 "cells": [
  {
   "cell_type": "code",
   "execution_count": 1,
   "metadata": {},
   "outputs": [],
   "source": [
    "# mappper\n",
    "\n",
    "def mapper(centoids, point):\n",
    "    pass"
   ]
  },
  {
   "cell_type": "code",
   "execution_count": 2,
   "metadata": {},
   "outputs": [],
   "source": [
    "a = [[1,2,3],[4,5,6]]\n",
    "b = [[4,5,6],[1,2,3]]"
   ]
  },
  {
   "cell_type": "code",
   "execution_count": 3,
   "metadata": {},
   "outputs": [
    {
     "data": {
      "text/plain": [
       "False"
      ]
     },
     "execution_count": 3,
     "metadata": {},
     "output_type": "execute_result"
    }
   ],
   "source": [
    "a==b"
   ]
  },
  {
   "cell_type": "code",
   "execution_count": 4,
   "metadata": {},
   "outputs": [
    {
     "name": "stdout",
     "output_type": "stream",
     "text": [
      "key\t [1, 2, 3]\n"
     ]
    }
   ],
   "source": [
    "a = [1,2,3]\n",
    "print('key'+'\\t',a)"
   ]
  },
  {
   "cell_type": "code",
   "execution_count": 5,
   "metadata": {},
   "outputs": [],
   "source": [
    "import pandas as pd"
   ]
  },
  {
   "cell_type": "code",
   "execution_count": 6,
   "metadata": {},
   "outputs": [],
   "source": [
    "import numpy as np"
   ]
  },
  {
   "cell_type": "code",
   "execution_count": 17,
   "metadata": {},
   "outputs": [
    {
     "name": "stdout",
     "output_type": "stream",
     "text": [
      "made\n",
      " Alan----Anderson\n",
      "['21400899', '\"MAR 04', ' 2015 - CHA @ BKN\"', 'A', 'W', '24', '1', '1', '1:09', '10.8', '2', '1.9', '7.7', '2', 'made', '\"Anderson', ' Alan\"', '101187', '1.3', '1', '2', 'brian roberts', '203148']\n",
      "player_name:  brian roberts\n",
      "short status: made\n",
      "['7.7' '1.3' '10.8']\n",
      "missed\n",
      " Bojan----Bogdanovic\n",
      "['21400899', '\"MAR 04', ' 2015 - CHA @ BKN\"', 'A', 'W', '24', '2', '1', '0:14', '3.4', '0', '0.8', '28.2', '3', 'missed', '\"Bogdanovic', ' Bojan\"', '202711', '6.1', '0', '0', 'brian roberts', '203148']\n",
      "player_name:  brian roberts\n",
      "short status: missed\n",
      "['28.2' '6.1' '3.4']\n",
      "missed\n",
      " Bojan----Bogdanovic\n",
      "missed\n",
      " Markel----Brown\n",
      "['21400899', '\"MAR 04', ' 2015 - CHA @ BKN\"', 'A', 'W', '24', '4', '2', '11:47', '10.3', '2', '1.9', '17.2', '2', 'missed', '\"Brown', ' Markel\"', '203900', '3.4', '0', '0', 'brian roberts', '203148']\n",
      "player_name:  brian roberts\n",
      "short status: missed\n",
      "['17.2' '3.4' '10.3']\n"
     ]
    }
   ],
   "source": [
    "file = open('shot_logs.csv')\n",
    "c = 0\n",
    "for line in file.readlines():\n",
    "    line = line.strip()\n",
    "    line = line.split(',')\n",
    "    if line[0] == 'GAME_ID':\n",
    "        continue\n",
    "    shot_dist = line[12]\n",
    "    close_def_dist = line[18]\n",
    "    shot_clock = line[9]\n",
    "    player_name = line[21]\n",
    "    short_status = line[14]\n",
    "    def_first_name = line[16][:-1]\n",
    "    def_last_name = line[15][1:]\n",
    "    print(line[14])\n",
    "    print(def_first_name+\"----\"+def_last_name)\n",
    "    if shot_clock == '':\n",
    "        continue\n",
    "    print(line)\n",
    "    datapoint = np.array([shot_dist,close_def_dist,shot_clock])\n",
    "    print('player_name: ',player_name)\n",
    "    print('short status:',short_status)\n",
    "    print(datapoint)\n",
    "\n",
    "    c+=1\n",
    "    if c==3:\n",
    "        break\n",
    "    file.close()"
   ]
  },
  {
   "cell_type": "code",
   "execution_count": 12,
   "metadata": {},
   "outputs": [],
   "source": [
    "datapoint = datapoint.astype(np.float64)"
   ]
  },
  {
   "cell_type": "code",
   "execution_count": 9,
   "metadata": {},
   "outputs": [
    {
     "data": {
      "text/plain": [
       "array([17.2,  3.4, 10.3])"
      ]
     },
     "execution_count": 9,
     "metadata": {},
     "output_type": "execute_result"
    }
   ],
   "source": [
    "datapoint"
   ]
  },
  {
   "cell_type": "code",
   "execution_count": 10,
   "metadata": {},
   "outputs": [
    {
     "data": {
      "text/plain": [
       "(3,)"
      ]
     },
     "execution_count": 10,
     "metadata": {},
     "output_type": "execute_result"
    }
   ],
   "source": [
    "centroid = np.array([28.2,6.1,3.4])\n",
    "centroid.shape"
   ]
  },
  {
   "cell_type": "code",
   "execution_count": 11,
   "metadata": {},
   "outputs": [],
   "source": [
    "distance = np.zeros(4)"
   ]
  },
  {
   "cell_type": "code",
   "execution_count": 12,
   "metadata": {},
   "outputs": [
    {
     "data": {
      "text/plain": [
       "array([0., 0., 0., 0.])"
      ]
     },
     "execution_count": 12,
     "metadata": {},
     "output_type": "execute_result"
    }
   ],
   "source": [
    "distance"
   ]
  },
  {
   "cell_type": "code",
   "execution_count": 13,
   "metadata": {},
   "outputs": [],
   "source": [
    "from numpy.linalg import norm"
   ]
  },
  {
   "cell_type": "code",
   "execution_count": 14,
   "metadata": {},
   "outputs": [],
   "source": [
    "row = norm(datapoint - centroid, axis = 0 )"
   ]
  },
  {
   "cell_type": "code",
   "execution_count": 15,
   "metadata": {},
   "outputs": [
    {
     "data": {
      "text/plain": [
       "13.262729734108284"
      ]
     },
     "execution_count": 15,
     "metadata": {},
     "output_type": "execute_result"
    }
   ],
   "source": [
    "row"
   ]
  },
  {
   "cell_type": "code",
   "execution_count": 16,
   "metadata": {},
   "outputs": [],
   "source": [
    "distance[1] = np.square(row)"
   ]
  },
  {
   "cell_type": "code",
   "execution_count": 17,
   "metadata": {},
   "outputs": [
    {
     "data": {
      "text/plain": [
       "array([  0. , 175.9,   0. ,   0. ])"
      ]
     },
     "execution_count": 17,
     "metadata": {},
     "output_type": "execute_result"
    }
   ],
   "source": [
    "distance"
   ]
  },
  {
   "cell_type": "code",
   "execution_count": 18,
   "metadata": {},
   "outputs": [],
   "source": [
    "a = np.argmin(distance,axis=0)"
   ]
  },
  {
   "cell_type": "code",
   "execution_count": 19,
   "metadata": {},
   "outputs": [],
   "source": [
    "a = list()"
   ]
  },
  {
   "cell_type": "code",
   "execution_count": 20,
   "metadata": {},
   "outputs": [],
   "source": [
    "b = np.array([0,1])"
   ]
  },
  {
   "cell_type": "code",
   "execution_count": 21,
   "metadata": {},
   "outputs": [],
   "source": [
    "a.append(b)"
   ]
  },
  {
   "cell_type": "code",
   "execution_count": 22,
   "metadata": {},
   "outputs": [
    {
     "data": {
      "text/plain": [
       "[array([0, 1])]"
      ]
     },
     "execution_count": 22,
     "metadata": {},
     "output_type": "execute_result"
    }
   ],
   "source": [
    "a"
   ]
  },
  {
   "cell_type": "code",
   "execution_count": 23,
   "metadata": {},
   "outputs": [],
   "source": [
    "a.append(np.array([3,3]))"
   ]
  },
  {
   "cell_type": "code",
   "execution_count": 24,
   "metadata": {},
   "outputs": [
    {
     "data": {
      "text/plain": [
       "[array([0, 1]), array([3, 3])]"
      ]
     },
     "execution_count": 24,
     "metadata": {},
     "output_type": "execute_result"
    }
   ],
   "source": [
    "a"
   ]
  },
  {
   "cell_type": "code",
   "execution_count": 25,
   "metadata": {},
   "outputs": [],
   "source": [
    "a = np.array(a)"
   ]
  },
  {
   "cell_type": "code",
   "execution_count": 26,
   "metadata": {},
   "outputs": [
    {
     "data": {
      "text/plain": [
       "array([[0, 1],\n",
       "       [3, 3]])"
      ]
     },
     "execution_count": 26,
     "metadata": {},
     "output_type": "execute_result"
    }
   ],
   "source": [
    "a"
   ]
  },
  {
   "cell_type": "code",
   "execution_count": 27,
   "metadata": {},
   "outputs": [],
   "source": [
    "a = np.sum(a,axis=0)"
   ]
  },
  {
   "cell_type": "code",
   "execution_count": 28,
   "metadata": {},
   "outputs": [
    {
     "data": {
      "text/plain": [
       "array([3, 4])"
      ]
     },
     "execution_count": 28,
     "metadata": {},
     "output_type": "execute_result"
    }
   ],
   "source": [
    "a"
   ]
  },
  {
   "cell_type": "code",
   "execution_count": 29,
   "metadata": {},
   "outputs": [],
   "source": [
    "a = np.array([1,2])\n",
    "b = np.array([3,4])"
   ]
  },
  {
   "cell_type": "code",
   "execution_count": 30,
   "metadata": {},
   "outputs": [
    {
     "data": {
      "text/plain": [
       "array([4, 6])"
      ]
     },
     "execution_count": 30,
     "metadata": {},
     "output_type": "execute_result"
    }
   ],
   "source": [
    "a + b"
   ]
  },
  {
   "cell_type": "code",
   "execution_count": 31,
   "metadata": {},
   "outputs": [],
   "source": [
    "dict1 = {1: 1, 2: 9, 3: 4}"
   ]
  },
  {
   "cell_type": "code",
   "execution_count": 32,
   "metadata": {},
   "outputs": [
    {
     "name": "stdout",
     "output_type": "stream",
     "text": [
      "{1: 1, 2: 9, 3: 4}\n"
     ]
    }
   ],
   "source": [
    "print(dict1)"
   ]
  },
  {
   "cell_type": "code",
   "execution_count": 33,
   "metadata": {},
   "outputs": [],
   "source": [
    "from operator import itemgetter"
   ]
  },
  {
   "cell_type": "code",
   "execution_count": 35,
   "metadata": {},
   "outputs": [],
   "source": [
    "cv = dict()"
   ]
  },
  {
   "cell_type": "code",
   "execution_count": 55,
   "metadata": {},
   "outputs": [
    {
     "name": "stdout",
     "output_type": "stream",
     "text": [
      "brian roberts\t Alan Anderson_1_0\n",
      "brian roberts\t Bojan Bogdanovic_2_1\n",
      "brian roberts\t Markel Brown_0_1\n",
      "brian roberts\t Thaddeus Young_1_3\n",
      "brian roberts\t Deron Williams_1_1\n",
      "brian roberts\t Jarrett Jack_1_2\n",
      "brian roberts\t Mason Plumlee_1_0\n",
      "brian roberts\t Darius Morris_0_1\n",
      "brian roberts\t Wayne Ellington_0_1\n",
      "brian roberts\t Jeremy Lin_1_1\n",
      "brian roberts\t Jordan Hill_1_0\n",
      "brian roberts\t Willie Green_1_2\n",
      "brian roberts\t Marcus Smart_0_2\n",
      "brian roberts\t James Young_1_0\n",
      "brian roberts\t Jonas Jerebko_0_2\n",
      "brian roberts\t Jae Crowder_0_1\n",
      "brian roberts\t Isaiah Thomas_3_4\n",
      "brian roberts\t Aaron Brooks_2_3\n",
      "brian roberts\t Kirk Hinrich_1_2\n",
      "brian roberts\t Taj Gibson_2_0\n",
      "brian roberts\t Joakim Noah_1_1\n",
      "brian roberts\t Devin Harris_0_3\n",
      "brian roberts\t Jose Juan Barea_0_3\n",
      "brian roberts\t D.J. Augustin_2_3\n",
      "brian roberts\t Andre Drummond_1_1\n",
      "brian roberts\t John Lucas III_0_1\n",
      "brian roberts\t Spencer Dinwiddie_0_1\n",
      "brian roberts\t CJ Miles_1_0\n",
      "brian roberts\t George Hill_2_1\n",
      "brian roberts\t CJ Watson_3_5\n",
      "brian roberts\t Shayne Whittington_1_0\n",
      "brian roberts\t David West_1_1\n",
      "brian roberts\t Solomon Hill_0_1\n",
      "brian roberts\t Tim Frazier_1_5\n",
      "brian roberts\t Nerlens Noel_0_2\n",
      "brian roberts\t Jerami Grant_1_1\n",
      "brian roberts\t JaKarr Sampson_0_1\n",
      "brian roberts\t Luc Mbah a Moute_0_1\n",
      "brian roberts\t John Wall_5_5\n",
      "brian roberts\t Marcin Gortat_1_1\n",
      "brian roberts\t Garrett Temple_1_3\n",
      "brian roberts\t Paul Pierce_0_1\n",
      "brian roberts\t Kris Humphries_2_1\n",
      "brian roberts\t Otto Porter_1_0\n",
      "brian roberts\t Danilo Gallinari_0_1\n",
      "brian roberts\t Jusuf Nurkic_1_1\n",
      "brian roberts\t Ty Lawson_0_3\n",
      "brian roberts\t JJ Hickson_0_2\n",
      "brian roberts\t Tony Parker_3_4\n",
      "brian roberts\t Patty Mills_0_3\n",
      "brian roberts\t Tim Duncan_0_1\n",
      "brian roberts\t Manu Ginobili_0_1\n",
      "brian roberts\t Langston Galloway_4_2\n",
      "brian roberts\t Lou Amundson_1_0\n",
      "brian roberts\t Jason Smith_0_2\n",
      "brian roberts\t Kyrie Irving_2_2\n",
      "brian roberts\t Tristan Thompson_1_1\n",
      "brian roberts\t Mike Miller_0_1\n",
      "brian roberts\t James Ennis_1_0\n",
      "brian roberts\t Udonis Haslem_0_1\n",
      "brian roberts\t Mo Williams_3_2\n",
      "brian roberts\t Zach LaVine_2_0\n",
      "brian roberts\t Roy Hibbert_0_2\n",
      "brian roberts\t Ian Mahinmi_0_1\n",
      "brian roberts\t Donald Sloan_3_3\n",
      "brian roberts\t Damjan Rudez_0_1\n",
      "brian roberts\t Cory Joseph_1_0\n",
      "brian roberts\t Boris Diaw_1_1\n",
      "brian roberts\t Tim Hardaway Jr._1_1\n",
      "brian roberts\t Shane Larkin_2_2\n",
      "brian roberts\t Jose Calderon_0_1\n",
      "brian roberts\t Cole Aldrich_1_0\n",
      "brian roberts\t Travis Wear_2_0\n",
      "brian roberts\t Lou Williams_0_1\n",
      "brian roberts\t Greivis Vasquez_1_0\n",
      "brian roberts\t Jonas Valanciunas_1_0\n",
      "brian roberts\t Terrence Ross_0_2\n",
      "brian roberts\t Jimmer Fredette_2_3\n",
      "brian roberts\t Jrue Holiday_1_1\n",
      "brian roberts\t Kelly Olynyk_1_1\n",
      "brian roberts\t Phil Pressey_2_0\n",
      "brian roberts\t Luke Ridnour_1_1\n",
      "brian roberts\t Victor Oladipo_1_1\n",
      "brian roberts\t Nikola Vucevic_0_1\n",
      "brian roberts\t Matthew Dellavedova_1_1\n",
      "brian roberts\t Corey Brewer_1_0\n",
      "brian roberts\t Jason Terry_0_3\n",
      "brian roberts\t Josh Smith_0_1\n",
      "brian roberts\t Isaiah Canaan_0_1\n",
      "brian roberts\t Kendall Marshall_3_3\n",
      "brian roberts\t Khris Middleton_0_2\n",
      "brian roberts\t Jared Dudley_1_0\n",
      "brian roberts\t O.J. Mayo_0_2\n",
      "brian roberts\t Elfrid Payton_2_1\n",
      "brian roberts\t Channing Frye_0_1\n",
      "brian roberts\t Nick Collison_1_0\n",
      "brian roberts\t Kendrick Perkins_1_0\n",
      "brian roberts\t Jeremy Lamb_0_1\n",
      "brian roberts\t Reggie Jackson_2_2\n",
      "brian roberts\t Ish Smith_1_1\n",
      "brian roberts\t Kenneth Faried_1_0\n",
      "brian roberts\t Nate Robinson_0_2\n",
      "brian roberts\t Gary Harris_1_0\n",
      "brian roberts\t Dante Exum_2_1\n",
      "brian roberts\t Trey Burke_0_1\n",
      "brian roberts\t Tony Wroten_0_2\n",
      "brian roberts\t Michael Carter-Williams_1_0\n",
      "brian roberts\t Eric Bledsoe_2_1\n",
      "brian roberts\t Shawn Marion_0_1\n",
      "brian roberts\t Anderson Varejao_1_0\n",
      "brian roberts\t LeBron James_1_1\n",
      "brian roberts\t Joe Johnson_0_1\n",
      "brian roberts\t Brandon Davies_1_0\n",
      "brian roberts\t Beno Udrih_1_4\n",
      "brian roberts\t Evan Turner_0_1\n",
      "brian roberts\t Nikola Mirotic_0_1\n",
      "brian roberts\t Kent Bazemore_0_2\n",
      "brian roberts\t Al Horford_0_2\n",
      "brian roberts\t DeMarre Carroll_0_2\n",
      "brian roberts\t Jeff Teague_0_2\n",
      "brian roberts\t Stephen Curry_1_1\n",
      "brian roberts\t Harrison Barnes_4_2\n",
      "brian roberts\t Brandon Rush_1_0\n",
      "brian roberts\t Klay Thompson_1_0\n",
      "brian roberts\t Marreese Speights_1_0\n",
      "brian roberts\t Shaun Livingston_4_4\n",
      "brian roberts\t Andre Iguodala_0_1\n",
      "brian roberts\t Draymond Green_1_0\n",
      "brian roberts\t Steve Blake_7_3\n",
      "brian roberts\t Allen Crabbe_1_0\n",
      "brian roberts\t Chris Kaman_1_1\n",
      "brian roberts\t Nicolas Batum_1_0\n",
      "brian roberts\t LaMarcus Aldridge_1_2\n",
      "brian roberts\t Damian Lillard_2_2\n",
      "brian roberts\t Joel Freeland_0_1\n",
      "brian roberts\t Wesley Matthews_0_1\n",
      "brian roberts\t Jamal Crawford_2_0\n",
      "brian roberts\t Glen Davis_1_0\n",
      "brian roberts\t Jordan Farmar_1_0\n",
      "brian roberts\t JJ Redick_1_2\n",
      "brian roberts\t Chris Paul_0_1\n",
      "brian roberts\t Blake Griffin_0_1\n",
      "brian roberts\t Shabazz Napier_1_5\n",
      "brian roberts\t Tobias Harris_0_1\n",
      "brian roberts\t Rodney Stuckey_1_1\n",
      "brian roberts\t Lavoy Allen_0_1\n",
      "brian roberts\t Greg Smith_0_1\n",
      "brian roberts\t Charlie Villanueva_0_1\n",
      "brian roberts\t Leandro Barbosa_0_2\n",
      "brian roberts\t Ognjen Kuzmic_1_0\n",
      "brian roberts\t PJ Tucker_1_1\n",
      "brian roberts\t Alex Len_0_2\n",
      "brian roberts\t Ed Davis_0_1\n",
      "brian roberts\t Xavier Henry_0_1\n",
      "brian roberts\t Ronnie Price_0_1\n",
      "brian roberts\t Dennis Schroder_0_1\n",
      "brian roberts\t Ryan Anderson_1_0\n",
      "brian roberts\t Austin Rivers_0_1\n",
      "brian roberts\t Omer Asik_0_1\n",
      "brian roberts\t Pablo Prigioni_1_3\n",
      "brian roberts\t Quincy Pondexter_1_0\n",
      "brian roberts\t Jerryd Bayless_2_2\n",
      "203148\t240 ene_0_1\n",
      "bismack biyombo\t Thaddeus Young_1_0\n",
      "bismack biyombo\t Jeremy Lin_0_1\n",
      "bismack biyombo\t Dewayne Dedmon_1_1\n",
      "bismack biyombo\t Maurice Harkless_1_0\n",
      "bismack biyombo\t Andrew Nicholson_0_1\n",
      "bismack biyombo\t Lou Amundson_0_1\n",
      "bismack biyombo\t Jason Smith_1_3\n",
      "bismack biyombo\t Kevin Love_1_1\n",
      "bismack biyombo\t Timofey Mozgov_1_0\n",
      "bismack biyombo\t Tristan Thompson_1_1\n",
      "bismack biyombo\t LeBron James_1_0\n",
      "bismack biyombo\t Mario Chalmers_0_1\n",
      "bismack biyombo\t Udonis Haslem_1_0\n",
      "bismack biyombo\t James Ennis_0_1\n",
      "bismack biyombo\t Danny Granger_1_0\n",
      "bismack biyombo\t Chris Bosh_1_2\n",
      "bismack biyombo\t Dwyane Wade_0_1\n",
      "bismack biyombo\t Chris Andersen_1_0\n",
      "bismack biyombo\t Shawne Williams_1_0\n",
      "bismack biyombo\t Andrew Wiggins_1_0\n",
      "bismack biyombo\t Gorgui Dieng_1_0\n",
      "bismack biyombo\t Robbie Hummel_1_0\n",
      "bismack biyombo\t CJ Watson_0_1\n",
      "bismack biyombo\t Solomon Hill_1_1\n",
      "bismack biyombo\t Roy Hibbert_2_2\n",
      "bismack biyombo\t Tiago Splitter_2_1\n",
      "bismack biyombo\t Tim Duncan_1_1\n",
      "bismack biyombo\t Danny Green_1_0\n",
      "bismack biyombo\t Tim Hardaway Jr._1_0\n",
      "bismack biyombo\t Shane Larkin_3_0\n",
      "bismack biyombo\t Quincy Acy_1_0\n",
      "bismack biyombo\t Jonas Valanciunas_0_1\n",
      "bismack biyombo\t Tyler Hansbrough_0_1\n",
      "bismack biyombo\t Terrence Ross_1_0\n",
      "bismack biyombo\t Greivis Vasquez_1_0\n",
      "bismack biyombo\t Patrick Patterson_0_1\n",
      "bismack biyombo\t Tyreke Evans_1_0\n",
      "bismack biyombo\t Jeff Green_1_0\n",
      "bismack biyombo\t Tyler Zeller_0_1\n",
      "bismack biyombo\t Avery Bradley_1_0\n",
      "bismack biyombo\t Jared Sullinger_0_1\n",
      "bismack biyombo\t Evan Turner_0_1\n",
      "bismack biyombo\t Dwight Howard_0_1\n",
      "bismack biyombo\t James Harden_1_0\n",
      "bismack biyombo\t John Henson_0_2\n",
      "bismack biyombo\t Serge Ibaka_0_1\n",
      "bismack biyombo\t Kendrick Perkins_0_1\n",
      "bismack biyombo\t Zaza Pachulia_0_1\n",
      "bismack biyombo\t Jerryd Bayless_1_0\n",
      "bismack biyombo\t Alonzo Gee_1_0\n",
      "bismack biyombo\t JJ Hickson_1_0\n",
      "bismack biyombo\t Jusuf Nurkic_1_0\n",
      "bismack biyombo\t Rudy Gobert_1_0\n",
      "bismack biyombo\t Luc Mbah a Moute_1_0\n",
      "bismack biyombo\t JaKarr Sampson_1_0\n",
      "bismack biyombo\t Matthew Dellavedova_1_0\n",
      "bismack biyombo\t Joe Johnson_1_0\n",
      "bismack biyombo\t Mason Plumlee_0_1\n",
      "bismack biyombo\t J.R. Smith_1_0\n",
      "bismack biyombo\t Carmelo Anthony_1_0\n",
      "bismack biyombo\t Pau Gasol_1_2\n",
      "bismack biyombo\t Nikola Mirotic_1_0\n",
      "bismack biyombo\t Elton Brand_2_0\n",
      "bismack biyombo\t Kent Bazemore_1_0\n",
      "bismack biyombo\t Draymond Green_1_0\n",
      "bismack biyombo\t Marreese Speights_1_2\n",
      "bismack biyombo\t Harrison Barnes_1_1\n",
      "bismack biyombo\t Brandon Rush_0_1\n",
      "bismack biyombo\t Shaun Livingston_1_0\n",
      "bismack biyombo\t Chris Kaman_1_1\n",
      "bismack biyombo\t Allen Crabbe_0_1\n",
      "bismack biyombo\t Glen Davis_1_0\n",
      "bismack biyombo\t Channing Frye_0_1\n",
      "bismack biyombo\t Nikola Vucevic_1_0\n",
      "bismack biyombo\t A.J. Price_1_0\n",
      "bismack biyombo\t Ian Mahinmi_1_0\n",
      "bismack biyombo\t Luis Scola_0_2\n",
      "bismack biyombo\t Al-Farouq Aminu_1_1\n",
      "bismack biyombo\t Chandler Parsons_1_1\n",
      "bismack biyombo\t Jae Crowder_0_1\n",
      "bismack biyombo\t Brandan Wright_0_1\n",
      "bismack biyombo\t Alex Len_2_1\n",
      "bismack biyombo\t PJ Tucker_1_0\n",
      "al jefferson\t Mason Plumlee_5_9\n",
      "al jefferson\t Alan Anderson_1_0\n",
      "al jefferson\t Brook Lopez_3_2\n",
      "al jefferson\t Joe Johnson_1_1\n",
      "al jefferson\t Deron Williams_2_0\n",
      "al jefferson\t Thaddeus Young_0_2\n",
      "al jefferson\t Robert Sacre_5_5\n",
      "al jefferson\t Ryan Kelly_0_1\n",
      "al jefferson\t Jordan Hill_4_3\n",
      "al jefferson\t Ed Davis_0_1\n",
      "al jefferson\t Tobias Harris_3_0\n",
      "al jefferson\t Victor Oladipo_0_2\n",
      "al jefferson\t Nikola Vucevic_10_9\n",
      "al jefferson\t Dewayne Dedmon_1_1\n",
      "al jefferson\t Tyler Zeller_8_8\n",
      "al jefferson\t Evan Turner_1_1\n",
      "al jefferson\t Jonas Jerebko_0_1\n",
      "al jefferson\t Brandon Bass_2_1\n",
      "al jefferson\t Avery Bradley_2_0\n",
      "al jefferson\t Jae Crowder_0_2\n",
      "al jefferson\t Pau Gasol_6_10\n",
      "al jefferson\t Joakim Noah_6_6\n",
      "al jefferson\t Tony Snell_0_1\n",
      "al jefferson\t Richard Jefferson_0_1\n",
      "al jefferson\t Tyson Chandler_2_8\n",
      "al jefferson\t Amar'e Stoudemire_4_8\n",
      "al jefferson\t Al-Farouq Aminu_1_0\n",
      "al jefferson\t Dirk Nowitzki_0_1\n",
      "al jefferson\t Devin Harris_1_0\n",
      "al jefferson\t Enes Kanter_5_7\n",
      "al jefferson\t Nick Collison_1_2\n",
      "al jefferson\t Serge Ibaka_2_2\n",
      "al jefferson\t Andre Drummond_3_3\n",
      "al jefferson\t Greg Monroe_1_3\n",
      "al jefferson\t Anthony Tolliver_0_2\n",
      "al jefferson\t Kyle Singler_1_0\n",
      "al jefferson\t D.J. Augustin_1_0\n",
      "al jefferson\t Roy Hibbert_8_4\n",
      "al jefferson\t David West_2_4\n",
      "al jefferson\t Rodney Stuckey_1_0\n",
      "al jefferson\t Luis Scola_1_0\n",
      "al jefferson\t Solomon Hill_1_0\n",
      "al jefferson\t Robert Covington_2_1\n",
      "al jefferson\t Nerlens Noel_3_3\n",
      "al jefferson\t Luc Mbah a Moute_6_14\n",
      "al jefferson\t Marcin Gortat_6_14\n",
      "al jefferson\t DeJuan Blair_1_0\n",
      "al jefferson\t Paul Pierce_1_1\n",
      "al jefferson\t Kevin Seraphin_0_1\n",
      "al jefferson\t Bradley Beal_1_0\n",
      "al jefferson\t Jusuf Nurkic_5_5\n",
      "al jefferson\t Alonzo Gee_1_1\n",
      "al jefferson\t Wilson Chandler_0_1\n",
      "al jefferson\t JJ Hickson_3_3\n",
      "al jefferson\t JaVale McGee_2_0\n",
      "al jefferson\t Danilo Gallinari_1_0\n",
      "al jefferson\t Tim Duncan_3_0\n",
      "al jefferson\t Aron Baynes_0_1\n",
      "al jefferson\t Boris Diaw_1_2\n",
      "al jefferson\t Matt Bonner_2_1\n",
      "al jefferson\t Kawhi Leonard_1_0\n",
      "al jefferson\t Danny Green_1_0\n",
      "al jefferson\t Cole Aldrich_2_3\n",
      "al jefferson\t Lou Amundson_1_5\n",
      "al jefferson\t Jason Smith_1_0\n",
      "al jefferson\t Kyrie Irving_1_1\n",
      "al jefferson\t Timofey Mozgov_10_2\n",
      "al jefferson\t Kevin Love_1_1\n",
      "al jefferson\t Brendan Haywood_2_3\n",
      "al jefferson\t Shawn Marion_0_3\n",
      "al jefferson\t Matthew Dellavedova_2_0\n",
      "al jefferson\t Shabazz Napier_2_0\n",
      "al jefferson\t Udonis Haslem_2_0\n",
      "al jefferson\t Chris Bosh_2_4\n",
      "al jefferson\t Shawne Williams_0_1\n",
      "al jefferson\t Chase Budinger_0_1\n",
      "al jefferson\t Zach LaVine_1_0\n",
      "al jefferson\t Gorgui Dieng_2_4\n",
      "al jefferson\t Troy Daniels_1_1\n",
      "al jefferson\t Zaza Pachulia_3_7\n",
      "al jefferson\t Giannis Antetokounmpo_0_1\n",
      "al jefferson\t John Henson_0_2\n",
      "al jefferson\t Kyle O'Quinn_0_1\n",
      "al jefferson\t Steven Adams_1_2\n",
      "al jefferson\t Kendrick Perkins_0_1\n",
      "al jefferson\t Russell Westbrook_1_0\n",
      "al jefferson\t Larry Sanders_5_2\n",
      "al jefferson\t Brandon Knight_1_0\n",
      "al jefferson\t Jared Dudley_0_1\n",
      "al jefferson\t Jerryd Bayless_0_1\n",
      "al jefferson\t Derrick Favors_5_3\n",
      "al jefferson\t Rudy Gobert_1_2\n",
      "al jefferson\t Alec Burks_1_0\n",
      "al jefferson\t Rodney Hood_1_0\n",
      "al jefferson\t Hollis Thompson_1_1\n",
      "al jefferson\t Henry Sims_4_1\n",
      "al jefferson\t KJ McDaniels_0_2\n",
      "al jefferson\t Jerami Grant_2_0\n",
      "al jefferson\t Alex Len_6_7\n",
      "al jefferson\t Marcus Morris_1_0\n",
      "al jefferson\t Miles Plumlee_5_1\n",
      "al jefferson\t Gerald Green_0_1\n",
      "al jefferson\t Eric Bledsoe_1_0\n",
      "al jefferson\t Anderson Varejao_2_3\n",
      "al jefferson\t LeBron James_1_0\n",
      "al jefferson\t Tristan Thompson_2_0\n",
      "al jefferson\t Sergey Karasev_0_1\n",
      "al jefferson\t Marc Gasol_2_8\n",
      "al jefferson\t Mike Conley_2_3\n",
      "al jefferson\t Kosta Koufos_0_2\n",
      "al jefferson\t Courtney Lee_1_1\n",
      "al jefferson\t Tony Allen_1_0\n",
      "al jefferson\t Zach Randolph_1_0\n",
      "al jefferson\t Marcus Thornton_1_0\n",
      "al jefferson\t Jared Sullinger_1_0\n",
      "al jefferson\t Samuel Dalembert_3_7\n",
      "al jefferson\t Pablo Prigioni_0_1\n",
      "al jefferson\t Tim Hardaway Jr._0_1\n",
      "al jefferson\t Kirk Hinrich_0_1\n",
      "al jefferson\t DeMarre Carroll_0_1\n",
      "al jefferson\t Kyle Korver_0_2\n",
      "al jefferson\t Jeff Teague_1_0\n",
      "al jefferson\t Paul Millsap_1_1\n",
      "al jefferson\t Elton Brand_1_0\n",
      "al jefferson\t Al Horford_1_0\n",
      "al jefferson\t Andrew Bogut_4_6\n",
      "al jefferson\t Stephen Curry_1_0\n",
      "al jefferson\t Harrison Barnes_2_0\n",
      "al jefferson\t Marreese Speights_1_0\n",
      "al jefferson\t Draymond Green_0_2\n",
      "al jefferson\t Robin Lopez_1_3\n",
      "2744\t240 ene_3_3\n"
     ]
    }
   ],
   "source": [
    "#!usr/bin/python\n",
    "\n",
    "import sys\n",
    "import numpy as np\n",
    "file = open('shot_logs.csv')\n",
    "mapper_dict = dict()\n",
    "c = 0\n",
    "for line in file.readlines():\n",
    "\n",
    "    line = line.strip()\n",
    "    line = line.split(',')\n",
    "    c+=1\n",
    "    if c==1000:\n",
    "        break\n",
    "\n",
    "    # print(line)\n",
    "    if line[0] == 'GAME_ID':\n",
    "        continue\n",
    "    shot_clock = line[9]\n",
    "    player_name = line[21].lower()\n",
    "    def_first_name = line[16][:-1]\n",
    "    def_last_name = line[15][1:]\n",
    "    def_name = def_first_name + \" \" + def_last_name\n",
    "    shot_status = line[14]   # made / missed\n",
    "    \n",
    "    if shot_clock =='':   # skip first row, and, shot_clock is the only column with missing values\n",
    "        continue\n",
    "\n",
    "    if player_name not in mapper_dict:\n",
    "        mapper_dict[player_name] = dict()\n",
    "\n",
    "    if def_name not in mapper_dict[player_name]:\n",
    "        mapper_dict[player_name][def_name] = list()\n",
    "\n",
    "    if shot_status == 'made':\n",
    "        mapper_dict[player_name][def_name].append(np.array([1,0]))\n",
    "    else:\n",
    "        mapper_dict[player_name][def_name].append(np.array([0,1]))\n",
    "\n",
    "    \n",
    "# now we have a dictionary of this kind:\n",
    "\n",
    "# {brian roberts : {alan anderson : [[1,0],[1,0],[0,1],[0,1],[0,1]]\n",
    "#                   bojan bogdanaovic : [[1,0],[0,1]] }}\n",
    "# for all the players and their defenders with their short statuses\n",
    "\n",
    "# combiner - let's aggregate all the sots made and missed so as to calculate the hit rate\n",
    "# in reducer\n",
    "\n",
    "for key, val in mapper_dict.items():\n",
    "    # key is player_name\n",
    "    # val is dictionary of defenders with individual shot statuses\n",
    "    \n",
    "    for k,v in val.items():\n",
    "        # k is defender's name\n",
    "        # v is a list of np arrays of short status\n",
    "        v = np.array(v)\n",
    "        v = np.sum(v,axis = 0)\n",
    "        val[k] = v  # get sum of all those short statuses in one single array\n",
    "\n",
    "\n",
    "# now or dictionary is ready for output to reducer\n",
    "reducer_input = list()\n",
    "for key, val in mapper_dict.items():\n",
    "\n",
    "    for k,v in val.items():\n",
    "\n",
    "        a = key + \"\\t\" + k+\"_\"+str(v[0])+\"_\"+str(v[1])\n",
    "        print(a)\n",
    "        reducer_input.append(a)\n",
    "\n",
    "\n",
    "# outputs like brian roberts         alan anderson_45_23\n",
    "# in reducer make sure split is not based off the space character, but must be on the tab character"
   ]
  },
  {
   "cell_type": "code",
   "execution_count": 37,
   "metadata": {},
   "outputs": [],
   "source": [
    "v = [np.array([1,0]),np.array([0,1]),np.array([1,0])]"
   ]
  },
  {
   "cell_type": "code",
   "execution_count": 38,
   "metadata": {},
   "outputs": [
    {
     "data": {
      "text/plain": [
       "[array([1, 0]), array([0, 1]), array([1, 0])]"
      ]
     },
     "execution_count": 38,
     "metadata": {},
     "output_type": "execute_result"
    }
   ],
   "source": [
    "v"
   ]
  },
  {
   "cell_type": "code",
   "execution_count": 39,
   "metadata": {},
   "outputs": [
    {
     "data": {
      "text/plain": [
       "array([2, 1])"
      ]
     },
     "execution_count": 39,
     "metadata": {},
     "output_type": "execute_result"
    }
   ],
   "source": [
    "v = np.array(v)\n",
    "v = np.sum(v,axis=0)\n",
    "v"
   ]
  },
  {
   "cell_type": "code",
   "execution_count": 65,
   "metadata": {},
   "outputs": [
    {
     "name": "stdout",
     "output_type": "stream",
     "text": [
      "brian roberts   Worst Defender: -->  Markel Brown\n",
      "203148   Worst Defender: --> 240 ene\n",
      "bismack biyombo   Worst Defender: -->  Jeremy Lin\n",
      "al jefferson   Worst Defender: -->  Thaddeus Young\n",
      "2744   Worst Defender: --> 240 ene\n"
     ]
    }
   ],
   "source": [
    "res = dict()\n",
    "from operator import itemgetter\n",
    "for line in reducer_input:\n",
    "\n",
    "    line = line.strip()\n",
    "    line = line.split('\\t')\n",
    "\n",
    "    player_name = line[0]\n",
    "\n",
    "    gibberish = line[1].split('_')\n",
    "\n",
    "    def_name = gibberish[0]\n",
    "    made = int(gibberish[1])\n",
    "    missed = int(gibberish[2])\n",
    "\n",
    "    # print('player_name:',player_name)\n",
    "    # print('def_name:',def_name)\n",
    "    # print('made:',made)\n",
    "    # print('missed:',missed)\n",
    "\n",
    "    if player_name not in res:\n",
    "        res[player_name] = dict()\n",
    "\n",
    "    # print(res)\n",
    "    \n",
    "\n",
    "    res[player_name][def_name] = res[player_name].get(def_name,np.array([0,0])) + np.array([made,missed])\n",
    "\n",
    "# now we have aggregate of all the mappers\n",
    "# calculate hit rate now\n",
    "\n",
    "for key, val in res.items():\n",
    "\n",
    "    # key is player name\n",
    "    # val is a dictionary with defender names and their made miss counts\n",
    "\n",
    "    for k,v in val.items():\n",
    "        # k is defender name\n",
    "        md = v[0]\n",
    "        mis = v[1]\n",
    "        hit_rate = md/(md+mis)\n",
    "        val[k] = hit_rate\n",
    "\n",
    "# now the dictionary contains hit rate for each defender for each shot taken by a player\n",
    "\n",
    "for key , val in res.items():\n",
    "\n",
    "    sorted_defenders = sorted(val.items(), key = itemgetter(1))\n",
    "    res[key] = sorted_defenders\n",
    "\n",
    "\n",
    "# now for each player, just print the defender with lowest hit rate\n",
    "\n",
    "for key, val in res.items():\n",
    "\n",
    "    print(key, \"  Worst Defender: -->\", val[0][0])\n"
   ]
  },
  {
   "cell_type": "code",
   "execution_count": null,
   "metadata": {},
   "outputs": [],
   "source": []
  }
 ],
 "metadata": {
  "interpreter": {
   "hash": "95c8aa7dc74b950936004c3f3c391ccf15d01df31e665f664ea6f8b7a68af41b"
  },
  "kernelspec": {
   "display_name": "Python 3.9.7 ('base')",
   "language": "python",
   "name": "python3"
  },
  "language_info": {
   "codemirror_mode": {
    "name": "ipython",
    "version": 3
   },
   "file_extension": ".py",
   "mimetype": "text/x-python",
   "name": "python",
   "nbconvert_exporter": "python",
   "pygments_lexer": "ipython3",
   "version": "3.8.8"
  },
  "orig_nbformat": 4
 },
 "nbformat": 4,
 "nbformat_minor": 2
}
