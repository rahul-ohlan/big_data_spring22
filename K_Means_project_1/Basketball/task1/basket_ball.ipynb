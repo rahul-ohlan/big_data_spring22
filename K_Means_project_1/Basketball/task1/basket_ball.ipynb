{
 "cells": [
  {
   "cell_type": "code",
   "execution_count": 1,
   "metadata": {},
   "outputs": [],
   "source": [
    "# mappper\n",
    "\n",
    "def mapper(centoids, point):\n",
    "    pass"
   ]
  },
  {
   "cell_type": "code",
   "execution_count": 2,
   "metadata": {},
   "outputs": [],
   "source": [
    "a = [[1,2,3],[4,5,6]]\n",
    "b = [[4,5,6],[1,2,3]]"
   ]
  },
  {
   "cell_type": "code",
   "execution_count": 3,
   "metadata": {},
   "outputs": [
    {
     "data": {
      "text/plain": [
       "False"
      ]
     },
     "execution_count": 3,
     "metadata": {},
     "output_type": "execute_result"
    }
   ],
   "source": [
    "a==b"
   ]
  },
  {
   "cell_type": "code",
   "execution_count": 4,
   "metadata": {},
   "outputs": [
    {
     "name": "stdout",
     "output_type": "stream",
     "text": [
      "key\t [1, 2, 3]\n"
     ]
    }
   ],
   "source": [
    "a = [1,2,3]\n",
    "print('key'+'\\t',a)"
   ]
  },
  {
   "cell_type": "code",
   "execution_count": 5,
   "metadata": {},
   "outputs": [],
   "source": [
    "import pandas as pd"
   ]
  },
  {
   "cell_type": "code",
   "execution_count": 6,
   "metadata": {},
   "outputs": [],
   "source": [
    "import numpy as np"
   ]
  },
  {
   "cell_type": "code",
   "execution_count": 13,
   "metadata": {},
   "outputs": [
    {
     "name": "stdout",
     "output_type": "stream",
     "text": [
      "made\n",
      " Alan----Anderson\n",
      "['21400899', '\"MAR 04', ' 2015 - CHA @ BKN\"', 'A', 'W', '24', '1', '1', '1:09', '10.8', '2', '1.9', '7.7', '2', 'made', '\"Anderson', ' Alan\"', '101187', '1.3', '1', '2', 'brian roberts', '203148']\n",
      "player_name:  brian roberts\n",
      "short status: made\n",
      "['7.7' '1.3' '10.8']\n",
      "missed\n",
      " Bojan----Bogdanovic\n",
      "['21400899', '\"MAR 04', ' 2015 - CHA @ BKN\"', 'A', 'W', '24', '2', '1', '0:14', '3.4', '0', '0.8', '28.2', '3', 'missed', '\"Bogdanovic', ' Bojan\"', '202711', '6.1', '0', '0', 'brian roberts', '203148']\n",
      "player_name:  brian roberts\n",
      "short status: missed\n",
      "['28.2' '6.1' '3.4']\n",
      "missed\n",
      " Bojan----Bogdanovic\n",
      "missed\n",
      " Markel----Brown\n",
      "['21400899', '\"MAR 04', ' 2015 - CHA @ BKN\"', 'A', 'W', '24', '4', '2', '11:47', '10.3', '2', '1.9', '17.2', '2', 'missed', '\"Brown', ' Markel\"', '203900', '3.4', '0', '0', 'brian roberts', '203148']\n",
      "player_name:  brian roberts\n",
      "short status: missed\n",
      "['17.2' '3.4' '10.3']\n"
     ]
    }
   ],
   "source": [
    "file = open('shot_logs.csv')\n",
    "c = 0\n",
    "for line in file.readlines():\n",
    "    line = line.strip()\n",
    "    line = line.split(',')\n",
    "    if line[0] == 'GAME_ID':\n",
    "        continue\n",
    "    shot_dist = line[12]\n",
    "    close_def_dist = line[18]\n",
    "    shot_clock = line[9]\n",
    "    player_name = line[21]\n",
    "    short_status = line[14]\n",
    "    def_first_name = line[16][:-1]\n",
    "    def_last_name = line[15][1:]\n",
    "    print(line[14])\n",
    "    print(def_first_name+\"----\"+def_last_name)\n",
    "    if shot_clock == '':\n",
    "        continue\n",
    "    print(line)\n",
    "    datapoint = np.array([shot_dist,close_def_dist,shot_clock])\n",
    "    print('player_name: ',player_name)\n",
    "    print('short status:',short_status)\n",
    "    print(datapoint)\n",
    "\n",
    "    c+=1\n",
    "    if c==3:\n",
    "        break\n",
    "    file.close()"
   ]
  },
  {
   "cell_type": "code",
   "execution_count": 12,
   "metadata": {},
   "outputs": [],
   "source": [
    "datapoint = datapoint.astype(np.float64)"
   ]
  },
  {
   "cell_type": "code",
   "execution_count": 9,
   "metadata": {},
   "outputs": [
    {
     "data": {
      "text/plain": [
       "array([17.2,  3.4, 10.3])"
      ]
     },
     "execution_count": 9,
     "metadata": {},
     "output_type": "execute_result"
    }
   ],
   "source": [
    "datapoint"
   ]
  },
  {
   "cell_type": "code",
   "execution_count": 10,
   "metadata": {},
   "outputs": [
    {
     "data": {
      "text/plain": [
       "(3,)"
      ]
     },
     "execution_count": 10,
     "metadata": {},
     "output_type": "execute_result"
    }
   ],
   "source": [
    "centroid = np.array([28.2,6.1,3.4])\n",
    "centroid.shape"
   ]
  },
  {
   "cell_type": "code",
   "execution_count": 11,
   "metadata": {},
   "outputs": [],
   "source": [
    "distance = np.zeros(4)"
   ]
  },
  {
   "cell_type": "code",
   "execution_count": 12,
   "metadata": {},
   "outputs": [
    {
     "data": {
      "text/plain": [
       "array([0., 0., 0., 0.])"
      ]
     },
     "execution_count": 12,
     "metadata": {},
     "output_type": "execute_result"
    }
   ],
   "source": [
    "distance"
   ]
  },
  {
   "cell_type": "code",
   "execution_count": 13,
   "metadata": {},
   "outputs": [],
   "source": [
    "from numpy.linalg import norm"
   ]
  },
  {
   "cell_type": "code",
   "execution_count": 14,
   "metadata": {},
   "outputs": [],
   "source": [
    "row = norm(datapoint - centroid, axis = 0 )"
   ]
  },
  {
   "cell_type": "code",
   "execution_count": 15,
   "metadata": {},
   "outputs": [
    {
     "data": {
      "text/plain": [
       "13.262729734108284"
      ]
     },
     "execution_count": 15,
     "metadata": {},
     "output_type": "execute_result"
    }
   ],
   "source": [
    "row"
   ]
  },
  {
   "cell_type": "code",
   "execution_count": 16,
   "metadata": {},
   "outputs": [],
   "source": [
    "distance[1] = np.square(row)"
   ]
  },
  {
   "cell_type": "code",
   "execution_count": 17,
   "metadata": {},
   "outputs": [
    {
     "data": {
      "text/plain": [
       "array([  0. , 175.9,   0. ,   0. ])"
      ]
     },
     "execution_count": 17,
     "metadata": {},
     "output_type": "execute_result"
    }
   ],
   "source": [
    "distance"
   ]
  },
  {
   "cell_type": "code",
   "execution_count": 18,
   "metadata": {},
   "outputs": [],
   "source": [
    "a = np.argmin(distance,axis=0)"
   ]
  },
  {
   "cell_type": "code",
   "execution_count": 19,
   "metadata": {},
   "outputs": [],
   "source": [
    "a = list()"
   ]
  },
  {
   "cell_type": "code",
   "execution_count": 20,
   "metadata": {},
   "outputs": [],
   "source": [
    "b = np.array([0,1])"
   ]
  },
  {
   "cell_type": "code",
   "execution_count": 21,
   "metadata": {},
   "outputs": [],
   "source": [
    "a.append(b)"
   ]
  },
  {
   "cell_type": "code",
   "execution_count": 22,
   "metadata": {},
   "outputs": [
    {
     "data": {
      "text/plain": [
       "[array([0, 1])]"
      ]
     },
     "execution_count": 22,
     "metadata": {},
     "output_type": "execute_result"
    }
   ],
   "source": [
    "a"
   ]
  },
  {
   "cell_type": "code",
   "execution_count": 23,
   "metadata": {},
   "outputs": [],
   "source": [
    "a.append(np.array([3,3]))"
   ]
  },
  {
   "cell_type": "code",
   "execution_count": 24,
   "metadata": {},
   "outputs": [
    {
     "data": {
      "text/plain": [
       "[array([0, 1]), array([3, 3])]"
      ]
     },
     "execution_count": 24,
     "metadata": {},
     "output_type": "execute_result"
    }
   ],
   "source": [
    "a"
   ]
  },
  {
   "cell_type": "code",
   "execution_count": 25,
   "metadata": {},
   "outputs": [],
   "source": [
    "a = np.array(a)"
   ]
  },
  {
   "cell_type": "code",
   "execution_count": 26,
   "metadata": {},
   "outputs": [
    {
     "data": {
      "text/plain": [
       "array([[0, 1],\n",
       "       [3, 3]])"
      ]
     },
     "execution_count": 26,
     "metadata": {},
     "output_type": "execute_result"
    }
   ],
   "source": [
    "a"
   ]
  },
  {
   "cell_type": "code",
   "execution_count": 27,
   "metadata": {},
   "outputs": [],
   "source": [
    "a = np.sum(a,axis=0)"
   ]
  },
  {
   "cell_type": "code",
   "execution_count": 28,
   "metadata": {},
   "outputs": [
    {
     "data": {
      "text/plain": [
       "array([3, 4])"
      ]
     },
     "execution_count": 28,
     "metadata": {},
     "output_type": "execute_result"
    }
   ],
   "source": [
    "a"
   ]
  },
  {
   "cell_type": "code",
   "execution_count": 29,
   "metadata": {},
   "outputs": [],
   "source": [
    "a = np.array([1,2])\n",
    "b = np.array([3,4])"
   ]
  },
  {
   "cell_type": "code",
   "execution_count": 30,
   "metadata": {},
   "outputs": [
    {
     "data": {
      "text/plain": [
       "array([4, 6])"
      ]
     },
     "execution_count": 30,
     "metadata": {},
     "output_type": "execute_result"
    }
   ],
   "source": [
    "a + b"
   ]
  },
  {
   "cell_type": "code",
   "execution_count": 31,
   "metadata": {},
   "outputs": [],
   "source": [
    "dict1 = {1: 1, 2: 9, 3: 4}"
   ]
  },
  {
   "cell_type": "code",
   "execution_count": 32,
   "metadata": {},
   "outputs": [
    {
     "name": "stdout",
     "output_type": "stream",
     "text": [
      "{1: 1, 2: 9, 3: 4}\n"
     ]
    }
   ],
   "source": [
    "print(dict1)"
   ]
  },
  {
   "cell_type": "code",
   "execution_count": 33,
   "metadata": {},
   "outputs": [],
   "source": [
    "from operator import itemgetter"
   ]
  },
  {
   "cell_type": "code",
   "execution_count": 35,
   "metadata": {},
   "outputs": [],
   "source": [
    "cv = dict()"
   ]
  },
  {
   "cell_type": "code",
   "execution_count": null,
   "metadata": {},
   "outputs": [],
   "source": [
    "file = open('shot_logs.csv')\n",
    "c = 0\n",
    "for line in file.readlines():\n",
    "    line = line.strip()\n",
    "    line = line.split(',')\n",
    "    if line[0] == 'GAME_ID':\n",
    "        continue\n",
    "    shot_dist = line[12]\n",
    "    close_def_dist = line[18]\n",
    "    shot_clock = line[9]\n",
    "    player_name = line[21]\n",
    "    short_status = line[14]\n",
    "    def_first_name = line[16][:-1]\n",
    "    def_last_name = line[15][1:]\n",
    "    print(line[14])\n",
    "    print(def_first_name+\"----\"+def_last_name)\n",
    "    if shot_clock == '':\n",
    "        continue\n",
    "    print(line)\n",
    "    datapoint = np.array([shot_dist,close_def_dist,shot_clock])\n",
    "    print('player_name: ',player_name)\n",
    "    print('short status:',short_status)\n",
    "    print(datapoint)\n",
    "\n",
    "    c+=1\n",
    "    if c==3:\n",
    "        break\n",
    "    file.close()"
   ]
  }
 ],
 "metadata": {
  "interpreter": {
   "hash": "95c8aa7dc74b950936004c3f3c391ccf15d01df31e665f664ea6f8b7a68af41b"
  },
  "kernelspec": {
   "display_name": "Python 3.9.7 ('base')",
   "language": "python",
   "name": "python3"
  },
  "language_info": {
   "codemirror_mode": {
    "name": "ipython",
    "version": 3
   },
   "file_extension": ".py",
   "mimetype": "text/x-python",
   "name": "python",
   "nbconvert_exporter": "python",
   "pygments_lexer": "ipython3",
   "version": "3.8.8"
  },
  "orig_nbformat": 4
 },
 "nbformat": 4,
 "nbformat_minor": 2
}
