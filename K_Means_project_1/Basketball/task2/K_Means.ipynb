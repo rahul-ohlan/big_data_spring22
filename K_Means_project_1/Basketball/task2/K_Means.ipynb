{
 "cells": [
  {
   "cell_type": "code",
   "execution_count": 1,
   "metadata": {},
   "outputs": [],
   "source": [
    "import numpy as np\n",
    "from numpy.linalg import norm"
   ]
  },
  {
   "cell_type": "code",
   "execution_count": 11,
   "metadata": {},
   "outputs": [],
   "source": [
    "class Kmeans:\n",
    "\n",
    "\n",
    "    def __init__(self,n_clusters,max_iter = 100, random_state = 47):\n",
    "\n",
    "        self.n_clusters = n_clusters\n",
    "        self.max_iter = max_iter\n",
    "        self.random_state = random_state\n",
    "\n",
    "\n",
    "\n",
    "    def initialize_centroids(self,X):\n",
    "\n",
    "        # X is the dataset\n",
    "        np.random.RandomState(self.random_state)\n",
    "        random_idx = np.random.permutation(X.shape[0])  # fetch random index from dataset\n",
    "        centroids = X[random_idx[:self.n_clusters]]    # choose these random datapoints from dataset as initial guess n clusters\n",
    "        return centroids\n",
    "\n",
    "\n",
    "    def compute_centroids(self,X,labels):\n",
    "        # X is the dataset\n",
    "        centroids = np.zeros((self.n_clusters,X.shape[1]))\n",
    "        # number of rows = clusters\n",
    "        # number of columns = number of features in dataset\n",
    "        # basically computing centroids of dataset by taking means of datapoints\n",
    "        # in \"n\" clusters\n",
    "\n",
    "        for k in range(self.n_clusters):\n",
    "            centroids[k,:] = np.mean(X[labels==k, :], axis = 0)\n",
    "\n",
    "        return centroids\n",
    "\n",
    "    def compute_distance(self,X,centroids):\n",
    "\n",
    "        distance = np.zeros((X.shape[0],self.n_clusters))\n",
    "\n",
    "        for k in range(self.n_clusters):\n",
    "            row_norm = norm(X - centroids[k,:],axis = 1)\n",
    "            distance[:,k] = np.square(row_norm)\n",
    "\n",
    "        return distance\n",
    "\n",
    "    def find_closest_cluster(self,distance):\n",
    "\n",
    "        return np.argmin(distance,axis = 1)\n",
    "\n",
    "\n",
    "    def compute_sse(self,X,labels,centroids):\n",
    "\n",
    "        distance = np.zeros(X.shape[0])\n",
    "\n",
    "        for k in range(self.n_clusters):\n",
    "            distance[labels==k] = norm(X[labels==k] - centroids[k],axis = 1)\n",
    "\n",
    "        return np.sum(np.square(distance))\n",
    "\n",
    "    def fit(self,X):\n",
    "\n",
    "        self.centroids = self.initialize_centroids(X)\n",
    "\n",
    "        for i in range(self.max_iter):\n",
    "\n",
    "            old_centroids = self.centroids\n",
    "            distance = self.compute_distance(X,old_centroids)\n",
    "            self.labels = self.find_closest_cluster(distance)\n",
    "            self.centroids = self.compute_centroids(X,self.labels)\n",
    "\n",
    "            if np.all(old_centroids == self.centroids):\n",
    "                break\n",
    "\n",
    "        self.error = self.compute_sse(X,self.labels,self.centroids)\n",
    "\n",
    "    def predict(self, X):\n",
    "\n",
    "\n",
    "        distance = self.compute_distance(X,self.centroids)\n",
    "        return self.find_closest_cluster(distance)\n",
    "\n",
    "\n"
   ]
  },
  {
   "cell_type": "code",
   "execution_count": 3,
   "metadata": {},
   "outputs": [],
   "source": [
    "a = np.array([[1,2],[3,4]])"
   ]
  },
  {
   "cell_type": "code",
   "execution_count": 4,
   "metadata": {},
   "outputs": [
    {
     "data": {
      "text/plain": [
       "array([[1, 2],\n",
       "       [3, 4]])"
      ]
     },
     "execution_count": 4,
     "metadata": {},
     "output_type": "execute_result"
    }
   ],
   "source": [
    "a"
   ]
  },
  {
   "cell_type": "code",
   "execution_count": 9,
   "metadata": {},
   "outputs": [],
   "source": [
    "b = norm(a,axis=1)"
   ]
  },
  {
   "cell_type": "code",
   "execution_count": 10,
   "metadata": {},
   "outputs": [
    {
     "data": {
      "text/plain": [
       "array([2.23606798, 5.        ])"
      ]
     },
     "execution_count": 10,
     "metadata": {},
     "output_type": "execute_result"
    }
   ],
   "source": [
    "b"
   ]
  },
  {
   "cell_type": "code",
   "execution_count": null,
   "metadata": {},
   "outputs": [],
   "source": []
  }
 ],
 "metadata": {
  "interpreter": {
   "hash": "95c8aa7dc74b950936004c3f3c391ccf15d01df31e665f664ea6f8b7a68af41b"
  },
  "kernelspec": {
   "display_name": "Python 3.9.7 ('base')",
   "language": "python",
   "name": "python3"
  },
  "language_info": {
   "codemirror_mode": {
    "name": "ipython",
    "version": 3
   },
   "file_extension": ".py",
   "mimetype": "text/x-python",
   "name": "python",
   "nbconvert_exporter": "python",
   "pygments_lexer": "ipython3",
   "version": "3.9.7"
  },
  "orig_nbformat": 4
 },
 "nbformat": 4,
 "nbformat_minor": 2
}
