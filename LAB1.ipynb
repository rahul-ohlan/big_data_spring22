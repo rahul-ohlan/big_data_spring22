{
  "nbformat": 4,
  "nbformat_minor": 0,
  "metadata": {
    "colab": {
      "name": "Copy of Copy of LAB1.ipynb",
      "provenance": [],
      "collapsed_sections": []
    },
    "kernelspec": {
      "name": "python3",
      "display_name": "Python 3"
    },
    "language_info": {
      "name": "python"
    }
  },
  "cells": [
    {
      "cell_type": "code",
      "execution_count": null,
      "metadata": {
        "colab": {
          "base_uri": "https://localhost:8080/"
        },
        "id": "xFoo4SDqjb12",
        "outputId": "af3718dd-6e85-482e-a475-d50bc575a6de"
      },
      "outputs": [
        {
          "output_type": "stream",
          "name": "stdout",
          "text": [
            "Cloning into 'mapreduce-test'...\n",
            "remote: Enumerating objects: 314, done.\u001b[K\n",
            "remote: Counting objects: 100% (57/57), done.\u001b[K\n",
            "remote: Compressing objects: 100% (56/56), done.\u001b[K\n",
            "remote: Total 314 (delta 31), reused 0 (delta 0), pack-reused 257\u001b[K\n",
            "Receiving objects: 100% (314/314), 1.07 MiB | 3.15 MiB/s, done.\n",
            "Resolving deltas: 100% (135/135), done.\n"
          ]
        }
      ],
      "source": [
        "!git clone https://github.com/yingmao/mapreduce-test.git"
      ]
    },
    {
      "cell_type": "code",
      "source": [
        "with open(\"/content/mapreduce-test/mapreduce-test-data/access.log\",'r')  as f:\n",
        "  lines = f.readlines()"
      ],
      "metadata": {
        "id": "UPEyonYtkV91"
      },
      "execution_count": null,
      "outputs": []
    },
    {
      "cell_type": "code",
      "source": [
        "import re\n",
        "import sys\n",
        "\n",
        "def mapper2(f):\n",
        "  pat = re.compile('(?P<ip>\\d+.\\d+.\\d+.\\d+).*?\\d{4}:(?P<hour>\\d{2}):\\d{2}.*? ')\n",
        "  for line in lines:\n",
        "      match = pat.search(line)\n",
        "      if match:\n",
        "          yield('%s\\t%s' % ('[' + match.group('hour') + ':00' + ']' + match.group('ip'), 1))"
      ],
      "metadata": {
        "id": "fdYms5DV6CaO"
      },
      "execution_count": null,
      "outputs": []
    },
    {
      "cell_type": "code",
      "source": [
        "from operator import itemgetter\n",
        "import sys\n",
        "import datetime\n",
        "\n",
        "dict_ip_count = {}\n",
        "dict_time_count = {}\n",
        "\n",
        "for line in mapper2(f):\n",
        "    line = line.strip()\n",
        "    time = line[1:6]\n",
        "    ip = line[7:]\n",
        "    ip, num = ip.split('\\t')\n",
        "    try:\n",
        "        num = int(num)\n",
        "        if time in dict_time_count:\n",
        "          if ip in dict_time_count[time]:\n",
        "\n",
        "            dict_time_count[time][ip] += num\n",
        "          else:\n",
        "            dict_time_count[time][ip] = 1\n",
        "          \n",
        "        else:\n",
        "          new = {}\n",
        "          new[ip] =  1\n",
        "          dict_time_count[time] = new\n",
        "         \n",
        "    except ValueError:\n",
        "        pass\n",
        "\n",
        "\n",
        "\n",
        "for key, value in dict_time_count.items():\n",
        "  count_list = list(value.items())\n",
        "  count_list.sort(key=lambda x: x[1], reverse=True)\n",
        "  dict_time_count[key]=count_list[0:3]  \n",
        "for key, values in dict_time_count.items():\n",
        "  print(key)\n",
        "  for i in values:\n",
        "    print(i)\n",
        "   \n"
      ],
      "metadata": {
        "colab": {
          "base_uri": "https://localhost:8080/"
        },
        "id": "vy6r_AB87eSD",
        "outputId": "8bf3d34c-0186-4309-8bc3-a492fa4b8f34"
      },
      "execution_count": null,
      "outputs": [
        {
          "output_type": "stream",
          "name": "stdout",
          "text": [
            "00:00\n",
            "('2001:470', 47)\n",
            "('117.136.3.155', 20)\n",
            "('60.181.12.71', 14)\n",
            "01:00\n",
            "('2001:470', 30)\n",
            "('61.243.46.80', 12)\n",
            "('14.205.143.146', 9)\n",
            "02:00\n",
            "('2001:470', 48)\n",
            "('179.35.3.126', 11)\n",
            "('189.217.123.97', 11)\n",
            "03:00\n",
            "('2001:470', 41)\n",
            "('180.120.193.126', 13)\n",
            "('186.11.5.195', 11)\n",
            "04:00\n",
            "('2001:470', 24)\n",
            "('114.223.54.184', 17)\n",
            "('117.136.87.142', 11)\n",
            "05:00\n",
            "('2001:470', 18)\n",
            "('222.222.117.244', 7)\n",
            "('60.255.160.228', 6)\n",
            "06:00\n",
            "('2001:470', 17)\n",
            "('117.136.126.249', 14)\n",
            "('60.169.167.2', 14)\n",
            "07:00\n",
            "('60.181.12.71', 45)\n",
            "('2001:470', 26)\n",
            "('223.39.191.108', 14)\n",
            "08:00\n",
            "('115.28.107.92', 537)\n",
            "('2001:470', 64)\n",
            "('218.26.55.220', 12)\n",
            "26:00\n",
            "('2019:08:26:16', 1)\n",
            "09:00\n",
            "('2001:470', 48)\n",
            "('117.136.54.110', 31)\n",
            "('182.32.31.226', 13)\n",
            "17:00\n",
            "('2001:470', 21)\n",
            "('45.74.80.187', 11)\n",
            "('31.167.82.193', 7)\n",
            "10:00\n",
            "('2001:470', 62)\n",
            "('111.166.210.222', 16)\n",
            "('104.248.214.165', 16)\n",
            "47:00\n",
            "('2019:10:47:20', 1)\n",
            "11:00\n",
            "('2001:470', 75)\n",
            "('117.136.94.194', 18)\n",
            "('221.192.180.52', 15)\n",
            "58:00\n",
            "('2019:11:58:44', 1)\n",
            "12:00\n",
            "('2001:470', 56)\n",
            "('123.194.161.13', 17)\n",
            "('112.17.236.217', 12)\n",
            "13:00\n",
            "('2001:470', 69)\n",
            "('223.38.63.221', 31)\n",
            "('111.37.24.188', 13)\n",
            "14:00\n",
            "('2001:470', 63)\n",
            "('117.136.66.172', 19)\n",
            "('112.86.251.168', 17)\n",
            "52:00\n",
            "('2019:14:52:43', 1)\n",
            "15:00\n",
            "('2001:470', 79)\n",
            "('117.136.100.79', 18)\n",
            "('117.136.25.187', 17)\n",
            "55:00\n",
            "('2019:15:55:02', 1)\n",
            "16:00\n",
            "('2001:470', 80)\n",
            "('101.99.42.219', 22)\n",
            "('212.39.89.144', 16)\n"
          ]
        }
      ]
    },
    {
      "cell_type": "code",
      "source": [
        "# for time, values in dict_time_count.items():\n",
        "#     values = list(sorted(values, key=lambda x: values[x], reverse=True))\n",
        "#     print(time, values[0:3])  \n",
        "\n",
        "#     sorted_dict_time_count = sorted(dict_time_count.items(), key=itemgetter(0))\n",
        "\n",
        "import datetime\n",
        "\n",
        "A = '12:00' \n",
        "timestring = A \n",
        "time = datetime.datetime.strptime(timestring, '%H:%M').time()\n",
        "print(\"{:d}:{:02d}\".format(time.hour, time.minute))\n"
      ],
      "metadata": {
        "colab": {
          "base_uri": "https://localhost:8080/"
        },
        "id": "XXCzcZvlm8Pg",
        "outputId": "4fbb5f4a-fba0-4ad3-ff15-bcf4c5f5c191"
      },
      "execution_count": null,
      "outputs": [
        {
          "output_type": "stream",
          "name": "stdout",
          "text": [
            "12:00\n"
          ]
        }
      ]
    },
    {
      "cell_type": "code",
      "source": [
        ""
      ],
      "metadata": {
        "id": "tdg3tTcT9eHB"
      },
      "execution_count": null,
      "outputs": []
    }
  ]
}